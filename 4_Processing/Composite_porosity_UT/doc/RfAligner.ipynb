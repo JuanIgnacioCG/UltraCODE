{
 "cells": [
  {
   "cell_type": "markdown",
   "id": "b07d6f28-1f21-4931-aeb9-3463b25d7746",
   "metadata": {},
   "source": [
    "# RfAligner\n",
    "\n",
    "Clase que alinea señales desplazandolas para que el pico de entrada al material en cada una de ellas coincida en un punto concreto dado como parametro.\n",
    "\n",
    "Codigo:"
   ]
  },
  {
   "cell_type": "code",
   "execution_count": 13,
   "id": "3a9dce40-0091-4a11-9d32-a6a484e2296b",
   "metadata": {},
   "outputs": [],
   "source": [
    "import numpy as np\n",
    "from scipy.signal import hilbert\n",
    "\n",
    "class RfAligner:\n",
    "    \n",
    "    def __init__(self): #Constructor vacio\n",
    "        pass\n",
    "        \n",
    "    #Aligns 3D signal\n",
    "    \n",
    "    def align(self,rfsignal,alignment_ref,min_ref = 0): # numpy.array 3D,int,int\n",
    "        \n",
    "        np.apply_along_axis(self.align1D,2,rfsignal,alignment_ref,min_ref) # Applies align1D to each pixel of the 3D signal\n",
    "    \n",
    "    #Aligns signal\n",
    "    \n",
    "    def align1D(self,rfsignal,alignment_ref,min_ref = 0): # numpy.array,int,int\n",
    "        \n",
    "        analytical = hilbert(rfsignal) #hilbert transform\n",
    "        envelope = np.abs(analytical) #envelope\n",
    "\n",
    "        array1d = rfsignal \n",
    "        align = np.zeros(array1d.shape) #zeros numpy.array with signals shape\n",
    "        pad = np.argmax(array1d)  - alignment_ref #Distance to alignment reference\n",
    "\n",
    "        if (pad > 0): #If its a positive distance\n",
    "\n",
    "            if np.argmax(envelope)>min_ref: #If it is not more to the right than the minimum\n",
    "                \n",
    "                # Moving the signal to the reference\n",
    "                end = len(array1d[pad:]) \n",
    "                align[:end] = array1d[pad:] \n",
    "                \n",
    "                return align\n",
    "            else:\n",
    "                return rfsignal\n",
    "\n",
    "        elif(pad<0): #If its a negative distance\n",
    "            \n",
    "            # Moving the signal to the reference\n",
    "            start = len(array1d[:pad]) \n",
    "            align[np.abs(pad):] = array1d[:start] \n",
    "\n",
    "            return align\n",
    "\n",
    "        else: #Already aligned\n",
    "\n",
    "            return rfsignal\n",
    "    \n",
    "    #Aligns 3D signal\n",
    "    \n",
    "    def alignEnv(self,rfsignal,alignment_ref,min_ref = 0): # numpy.array3D,int,int\n",
    "        \n",
    "        np.apply_along_axis(self.align1D,2,rfsignal,alignment_ref,min_ref) # Applies align1D to each pixel of the 3D signal\n",
    "    \n",
    "    #Aligns signal\n",
    "        \n",
    "    def align1DEnv(self,rfsignal,alignment_ref,min_ref = 0): # numpy.array,int,int\n",
    "        \n",
    "        analytical = hilbert(rfsignal) #hilbert transform\n",
    "        envelope = np.abs(analytical) #envelope\n",
    "\n",
    "        align = np.zeros(envelope.shape) #zeros numpy.array with signals shape\n",
    "        pad = np.argmax(envelope)  - alignment_ref #Distance to alignment reference\n",
    "\n",
    "        if (pad > 0): #If its a positive distance\n",
    "\n",
    "            if np.argmax(envelope)>min_ref: #If it is not more to the right than the minimum\n",
    "                \n",
    "                # Moving the signal to the reference\n",
    "                end = len(envelope[pad:]) \n",
    "                align[:end] = envelope[pad:] \n",
    "                \n",
    "                return align\n",
    "            else:\n",
    "                return rfsignal\n",
    "\n",
    "        elif(pad<0):\n",
    "            \n",
    "            # Moving the signal to the reference\n",
    "            start = len(envelope[:pad]) \n",
    "            align[np.abs(pad):] = envelope[:start] \n",
    "\n",
    "            return align\n",
    "\n",
    "        else: #Already aligned\n",
    "\n",
    "            return rfsignal\n",
    "        \n",
    "    # Max of each signal pixel\n",
    "    \n",
    "    def allMax(self,rfsignal): #numpy.array\n",
    "        \n",
    "        return np.apply_along_axis(np.argmax,2,rfsignal)\n",
    "        \n",
    "        \n",
    "    \n",
    "    "
   ]
  },
  {
   "cell_type": "markdown",
   "id": "bfd5f4ff-1bb6-40ee-b8ca-17748951f15d",
   "metadata": {},
   "source": [
    "## Requisitos\n",
    "\n",
    "Las librerias SciPY y Numpy deben estar instaladas para garantizar el correcto funcionamiento de la clase\n"
   ]
  },
  {
   "cell_type": "markdown",
   "id": "edc820e1-502b-4a8b-bdb0-985e2947fccd",
   "metadata": {},
   "source": [
    "## Funciones\n",
    "\n",
    "La clase cuenta actualmente con dos funciones que alinean la señal, una para arrays unidimensionales y otra para arrays multidimensionales\n",
    "\n",
    "### align1D\n",
    "\n",
    "Esta función, como su propio nombre indica, es la de arrays unidimensionales.\n",
    "\n",
    "Los parametros de entrada de esta función son los siguientes:\n",
    "\n",
    "- rfsignal: Numpy array 1D que representa la señal a alinear\n",
    "\n",
    "- alignment_ref: Indica la coordenada X en la que se alinearan la señal\n",
    "\n",
    "- min_ref: Parametro de control que indica cuanto debe estar alejado el pico de entrada del inicio de la señal para alinearlo hacia la izquierda, para asi evitar que se pierda la información que hay antes de dicho pico, por defecto 0\n",
    "\n",
    "Devuelve la señal alineada\n",
    "\n",
    "## align\n",
    "\n",
    "Esta función tiene los mismos parametros que la anterior con una diferencia, rfsignal debe ser un array tridimensional, al cual se le aplicara en cada array 1D que contiene la función de alineado para una dimensión mencionada anteriormente.\n",
    "\n",
    "## align1Denv y alignEnv\n",
    "\n",
    "Como las anteriores, pero calcula la envolvente de la señal y devuelve esta envolvente alineada."
   ]
  },
  {
   "cell_type": "markdown",
   "id": "f41ca9e6-630b-44a5-af8b-528baed76ad8",
   "metadata": {},
   "source": [
    "## Ejemplo\n",
    "\n",
    "A continuación veremos un ejemplo de uso y los resultados que genera sobre un array unidimensional"
   ]
  },
  {
   "cell_type": "code",
   "execution_count": 4,
   "id": "84c650fc-e845-4244-b9a2-93740be03f79",
   "metadata": {},
   "outputs": [],
   "source": [
    "señal = np.array([0,0,0,0,2,4,6,8,10,8,6,4,2,0,0,0,0]) #Señal a alinear\n",
    "referencia = 5 #Punto a alinear\n",
    "alineador = RfAligner() #Instancia de la clase\n",
    "alineado = alineador.align1D(señal,referencia)"
   ]
  },
  {
   "cell_type": "code",
   "execution_count": 11,
   "id": "454539d5-4491-4e9d-8dea-929e764eebe9",
   "metadata": {},
   "outputs": [
    {
     "data": {
      "text/plain": [
       "(-1.0, 11.0)"
      ]
     },
     "execution_count": 11,
     "metadata": {},
     "output_type": "execute_result"
    },
    {
     "data": {
      "image/png": "[encoded data removed]",
      "text/plain": [
       "<Figure size 640x480 with 1 Axes>"
      ]
     },
     "metadata": {},
     "output_type": "display_data"
    }
   ],
   "source": [
    "import matplotlib.pyplot as plt\n",
    "plt.plot(señal)\n",
    "plt.plot(alineado)\n",
    "plt.legend(['señal','alineado'])\n",
    "plt.ylim(-1,11)"
   ]
  },
  {
   "cell_type": "markdown",
   "id": "b54b2ed3-53a2-440f-9d9e-0d9d99a5b09c",
   "metadata": {},
   "source": [
    "Se puede apreciar como el pico de la señal que se encuentra en la coordenada x = 9, tras el alineado se encuentra en x = 5"
   ]
  }
 ],
 "metadata": {
  "kernelspec": {
   "display_name": "Python 3.9.13 ('alberto')",
   "language": "python",
   "name": "python3"
  },
  "language_info": {
   "codemirror_mode": {
    "name": "ipython",
    "version": 3
   },
   "file_extension": ".py",
   "mimetype": "text/x-python",
   "name": "python",
   "nbconvert_exporter": "python",
   "pygments_lexer": "ipython3",
   "version": "3.9.13"
  },
  "vscode": {
   "interpreter": {
    "hash": "fdd8f0b3b6c445175c26641ed4e0cf4fa869f06a8e39a81c29b902d12e5ba79b"
   }
  }
 },
 "nbformat": 4,
 "nbformat_minor": 5
}
