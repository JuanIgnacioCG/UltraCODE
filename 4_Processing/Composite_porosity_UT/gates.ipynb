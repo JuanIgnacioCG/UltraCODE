{
 "cells": [
  {
   "cell_type": "code",
   "execution_count": 1,
   "metadata": {},
   "outputs": [],
   "source": [
    "import NDEToolkit as ndt"
   ]
  },
  {
   "cell_type": "markdown",
   "metadata": {},
   "source": [
    "### Class"
   ]
  },
  {
   "cell_type": "code",
   "execution_count": 100,
   "metadata": {},
   "outputs": [],
   "source": [
    "from scipy.signal import find_peaks\n",
    "import numpy as np\n",
    "\n",
    "class gateManager:\n",
    "\n",
    "    def __init__(self):\n",
    "\n",
    "        pass\n",
    "\n",
    "    def ifGate(self,signal,ff1,ff2,method = \"max\",lim = 0):\n",
    "\n",
    "        boundaries = [ff1,ff2]\n",
    "        \n",
    "        window = signal[boundaries[0]:boundaries[1]]\n",
    "\n",
    "        if method == \"max\":\n",
    "\n",
    "            result = window.max()\n",
    "\n",
    "            if result >= lim:\n",
    "\n",
    "                return result\n",
    "\n",
    "            return 0\n",
    "        \n",
    "        elif method == \"first\":\n",
    "\n",
    "            peaks, values = find_peaks(window,height=lim)\n",
    "\n",
    "            return values['peak_heights'][0]\n",
    "\n",
    "\n",
    "    def negativeGate(self,signal,ff1,ff2,method = \"max\",lim = 0):\n",
    "\n",
    "        boundaries = [ff1,ff2]\n",
    "        \n",
    "        window = signal[boundaries[0]:boundaries[1]]\n",
    "\n",
    "        def fun(x):\n",
    "\n",
    "            if (x > lim):\n",
    "\n",
    "                return 0\n",
    "            \n",
    "            return x\n",
    "\n",
    "        limiter = np.vectorize(fun)\n",
    "\n",
    "        window = limiter(window)\n",
    "\n",
    "        if method == \"max\":\n",
    "\n",
    "            return window.max()\n",
    "        \n",
    "        elif method == \"first\":\n",
    "\n",
    "            peaks, values = find_peaks(window, height=0)\n",
    "\n",
    "            return values['peak_heights'][0]\n",
    "\n"
   ]
  },
  {
   "cell_type": "markdown",
   "metadata": {},
   "source": [
    "### Load data"
   ]
  },
  {
   "cell_type": "code",
   "execution_count": 3,
   "metadata": {},
   "outputs": [
    {
     "data": {
      "text/plain": [
       "(221, 224, 1082)"
      ]
     },
     "execution_count": 3,
     "metadata": {},
     "output_type": "execute_result"
    }
   ],
   "source": [
    "from pathlib import Path\n",
    "\n",
    "#Opening file\n",
    "\n",
    "folder_to_read = Path(r'C:\\Users\\alberto.vicente\\Documents\\202211_LibreriaUltrasonidos\\volumenes\\Desarrollo libreria\\temp')\n",
    "\n",
    "tiff_folder = folder_to_read /   r'20210407_phase_vols/0_phase_10MHz/COUPON7_PHASE_10MHz'\n",
    "\n",
    "data = ndt.napari_read_tiff(tiff_folder,folder=True)\n",
    "data.shape"
   ]
  },
  {
   "cell_type": "markdown",
   "metadata": {},
   "source": [
    "### If Gate"
   ]
  },
  {
   "cell_type": "code",
   "execution_count": 13,
   "metadata": {},
   "outputs": [
    {
     "name": "stdout",
     "output_type": "stream",
     "text": [
      "Using saved\n"
     ]
    },
    {
     "data": {
      "text/plain": [
       "[<matplotlib.lines.Line2D at 0x29fe9e2f9d0>]"
      ]
     },
     "execution_count": 13,
     "metadata": {},
     "output_type": "execute_result"
    },
    {
     "data": {
      "image/png": "[encoded data removed]",
      "text/plain": [
       "<Figure size 640x480 with 1 Axes>"
      ]
     },
     "metadata": {},
     "output_type": "display_data"
    }
   ],
   "source": [
    "import matplotlib.pyplot as plt\n",
    "signal = data[177,178]\n",
    "analyze = ndt.RfAnalyze(signal)\n",
    "analytic = analyze.analytic()\n",
    "envelope = analyze.envelope()\n",
    "plt.plot(envelope)"
   ]
  },
  {
   "cell_type": "code",
   "execution_count": 103,
   "metadata": {},
   "outputs": [],
   "source": [
    "gm = gateManager()"
   ]
  },
  {
   "cell_type": "markdown",
   "metadata": {},
   "source": [
    "#### Max method"
   ]
  },
  {
   "cell_type": "code",
   "execution_count": 58,
   "metadata": {},
   "outputs": [
    {
     "data": {
      "text/plain": [
       "20731.387531211683"
      ]
     },
     "execution_count": 58,
     "metadata": {},
     "output_type": "execute_result"
    }
   ],
   "source": [
    "gm.ifGate(envelope,150,200,lim=50,method=\"max\")"
   ]
  },
  {
   "cell_type": "markdown",
   "metadata": {},
   "source": [
    "#### First peak method"
   ]
  },
  {
   "cell_type": "code",
   "execution_count": 57,
   "metadata": {},
   "outputs": [
    {
     "data": {
      "text/plain": [
       "20731.387531211683"
      ]
     },
     "execution_count": 57,
     "metadata": {},
     "output_type": "execute_result"
    }
   ],
   "source": [
    "gm.ifGate(envelope,150,200,lim=50,method=\"first\")"
   ]
  },
  {
   "cell_type": "markdown",
   "metadata": {},
   "source": [
    "##### Negative Gate"
   ]
  },
  {
   "cell_type": "code",
   "execution_count": 104,
   "metadata": {},
   "outputs": [
    {
     "data": {
      "text/plain": [
       "18.695057940468562"
      ]
     },
     "execution_count": 104,
     "metadata": {},
     "output_type": "execute_result"
    }
   ],
   "source": [
    "gm.negativeGate(envelope,800,900,lim=3000, method = 'first')"
   ]
  }
 ],
 "metadata": {
  "kernelspec": {
   "display_name": "Python 3.9.13 ('alberto')",
   "language": "python",
   "name": "python3"
  },
  "language_info": {
   "codemirror_mode": {
    "name": "ipython",
    "version": 3
   },
   "file_extension": ".py",
   "mimetype": "text/x-python",
   "name": "python",
   "nbconvert_exporter": "python",
   "pygments_lexer": "ipython3",
   "version": "3.9.13"
  },
  "orig_nbformat": 4,
  "vscode": {
   "interpreter": {
    "hash": "fdd8f0b3b6c445175c26641ed4e0cf4fa869f06a8e39a81c29b902d12e5ba79b"
   }
  }
 },
 "nbformat": 4,
 "nbformat_minor": 2
}
