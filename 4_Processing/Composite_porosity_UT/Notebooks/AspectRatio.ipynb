{
 "cells": [
  {
   "cell_type": "markdown",
   "id": "bc760c63-b11a-4c45-9acc-ff5cc4ff7279",
   "metadata": {
    "tags": []
   },
   "source": [
    "## Imports y clases auxiliares"
   ]
  },
  {
   "cell_type": "code",
   "execution_count": null,
   "id": "3c0e76b0-446d-4509-b0b5-8046e93c7815",
   "metadata": {},
   "outputs": [],
   "source": [
    "## Math\n",
    "from scipy.signal import hilbert, chirp\n",
    "from scipy.fftpack import fft, ifft, fftfreq\n",
    "from NDEToolkit import RfAnalyze\n",
    "import numpy as np\n",
    "import NDEToolkit as ndt\n",
    "\n",
    "## Operations\n",
    "import os\n",
    "from pathlib import Path\n",
    "\n",
    "## Visualization\n",
    "import matplotlib.pyplot as plt\n",
    "from PIL import Image\n",
    "import tifffile as tf\n",
    "\n",
    "%gui qt"
   ]
  },
  {
   "cell_type": "markdown",
   "id": "5e37359c-9f4c-420e-ae16-55943e564aba",
   "metadata": {},
   "source": [
    "## Carga volumenes"
   ]
  },
  {
   "cell_type": "code",
   "execution_count": null,
   "id": "5e739272-03a7-49b0-995f-3b32c3b1c37f",
   "metadata": {},
   "outputs": [],
   "source": [
    "## Declaring the paths to the folders of work\n",
    "\n",
    "# Solves the path for any operative system.\n",
    "\n",
    "# Solves the path for any operative system.\n",
    "folder_to_read = Path(r'C:\\Users\\alberto.vicente\\Documents\\202211_LibreriaUltrasonidos\\volumenes\\Desarrollo libreria\\temp') \n",
    "folder_to_save = Path(r'C:\\Users\\alberto.vicente\\Documents\\202211_LibreriaUltrasonidos\\volumenes\\Desarrollo libreria\\temp')\n",
    "\n",
    "# Name of the files\n",
    "ruta_data1 = folder_to_read /   'c7_10MHz_backswall_freq_dom_pruebas'\n",
    "\n",
    "# Assigning images to variables\n",
    "data = ndt.napari_read_tiff(ruta_data1,folder=True)\n",
    "image = data[:,:,911]"
   ]
  },
  {
   "cell_type": "markdown",
   "id": "4b310470-e7c7-40b2-a823-d3f453dfaceb",
   "metadata": {},
   "source": [
    "# Clase"
   ]
  },
  {
   "cell_type": "code",
   "execution_count": null,
   "id": "a640eb4e-6cba-4950-8095-2967631b5168",
   "metadata": {},
   "outputs": [],
   "source": [
    "from skimage.transform import resize\n",
    "\n",
    "class AspectRatio:\n",
    "    \n",
    "    def __init__(self):\n",
    "        \n",
    "        pass\n",
    "    \n",
    "    def ratio(self,x,y,x1,y1,axis = -1):\n",
    "        \n",
    "        #Computes new shape for the image where x and y are real measures of the object \n",
    "        #x1,y1 are unit per pixel ratios of each dimension in the image\n",
    "        \n",
    "        if x1 > y1:\n",
    "            \n",
    "            axis = 0\n",
    "            \n",
    "            axis2 = 1\n",
    "\n",
    "        if x1 == y1:\n",
    "\n",
    "            if x > y:\n",
    "\n",
    "                axis = 0\n",
    "            \n",
    "                axis2 = 1\n",
    "\n",
    "            else:\n",
    "\n",
    "                axis = 1\n",
    "            \n",
    "                axis2 = 0\n",
    "        \n",
    "        else:\n",
    "            \n",
    "            axis = 1\n",
    "            \n",
    "            axis2 = 0\n",
    "        \n",
    "        sample = [x,y] #sample shape\n",
    "        image = [x1,y1] #image shape\n",
    "    \n",
    "        \n",
    "        sample_ratio = sample[axis]/sample[axis2]\n",
    "        image_ratio = image[axis]/image[axis2]\n",
    "        new_ratio = sample_ratio / image_ratio\n",
    "        \n",
    "        if axis: # axis = 1\n",
    "        \n",
    "            return (int(x1/new_ratio),y1)\n",
    "        \n",
    "        else:\n",
    "            \n",
    "            return (x1,int(y1/new_ratio))\n",
    "        \n",
    "    def reshape(self,x,y,image): # x y z\n",
    "        \n",
    "        if len(image.shape) == 2:\n",
    "        \n",
    "            x1 = image.shape[0]\n",
    "            y1 = image.shape[1]\n",
    "\n",
    "            new_shape = self.ratio(x,y,x1,y1)\n",
    "\n",
    "            return resize(image, new_shape)\n",
    "        \n",
    "        x1 = image.shape[0]\n",
    "        y1 = image.shape[1]\n",
    "        z1 = image.shape[2]\n",
    "\n",
    "        new_shape = self.ratio(x,y,x1,y1)\n",
    "\n",
    "        return resize(image, new_shape + (z1,))\n",
    "                \n",
    "                \n",
    "            "
   ]
  },
  {
   "cell_type": "markdown",
   "id": "19801bf3-3ce8-40a9-814e-6fac7368923c",
   "metadata": {},
   "source": [
    "# Sobre una sola imagen"
   ]
  },
  {
   "cell_type": "code",
   "execution_count": null,
   "id": "b4e8c512-afcf-4ff0-b9bd-12aae2c0fea8",
   "metadata": {},
   "outputs": [],
   "source": [
    "a = AspectRatio()"
   ]
  },
  {
   "cell_type": "code",
   "execution_count": null,
   "id": "bb0f3e5e-bc63-4690-b6a4-ea6d39a1a8c6",
   "metadata": {},
   "outputs": [],
   "source": [
    "image.shape"
   ]
  },
  {
   "cell_type": "code",
   "execution_count": null,
   "id": "ecfecfe5-5be5-4434-80dc-54e1bd3fdc7b",
   "metadata": {},
   "outputs": [],
   "source": [
    "plt.imshow(image)"
   ]
  },
  {
   "cell_type": "code",
   "execution_count": null,
   "id": "f9a1c72b-bde6-4a10-b106-8f13558b9c44",
   "metadata": {},
   "outputs": [],
   "source": [
    "resized = a.reshape(221,74,image)"
   ]
  },
  {
   "cell_type": "code",
   "execution_count": null,
   "id": "2eae43fe-ee57-41c4-9c6e-7d749259fdea",
   "metadata": {},
   "outputs": [],
   "source": [
    "plt.imshow(resized)"
   ]
  },
  {
   "cell_type": "code",
   "execution_count": null,
   "id": "958b711a",
   "metadata": {},
   "outputs": [],
   "source": [
    "tf.imwrite(folder_to_save / \"prueba.tiff\", resized)"
   ]
  },
  {
   "cell_type": "code",
   "execution_count": null,
   "id": "c01524a8",
   "metadata": {},
   "outputs": [],
   "source": [
    "a = (2,3)\n",
    "\n",
    "b = (1,5,6)"
   ]
  },
  {
   "cell_type": "code",
   "execution_count": null,
   "id": "fef3ada7",
   "metadata": {},
   "outputs": [],
   "source": [
    "(b[0],) + a"
   ]
  },
  {
   "cell_type": "markdown",
   "id": "e20c83a5",
   "metadata": {},
   "source": [
    "# Sobre un volumen"
   ]
  },
  {
   "cell_type": "code",
   "execution_count": null,
   "id": "18d51b01",
   "metadata": {},
   "outputs": [],
   "source": [
    "a = AspectRatio()"
   ]
  },
  {
   "cell_type": "code",
   "execution_count": null,
   "id": "f1951b59",
   "metadata": {},
   "outputs": [],
   "source": [
    "resized = a.reshape(221,74,data)"
   ]
  },
  {
   "cell_type": "code",
   "execution_count": null,
   "id": "5a56055c",
   "metadata": {},
   "outputs": [],
   "source": [
    "data.shape"
   ]
  },
  {
   "cell_type": "code",
   "execution_count": null,
   "id": "c9eb860d",
   "metadata": {},
   "outputs": [],
   "source": [
    "resized.shape"
   ]
  },
  {
   "cell_type": "code",
   "execution_count": null,
   "id": "31b66374",
   "metadata": {},
   "outputs": [],
   "source": [
    "ndt.write_tiff(resized,folder_to_save / \"prueba\")"
   ]
  },
  {
   "cell_type": "code",
   "execution_count": null,
   "id": "3489b359",
   "metadata": {},
   "outputs": [],
   "source": [
    "c = (30,10)\n",
    "\n",
    "b = (30,30)"
   ]
  },
  {
   "cell_type": "code",
   "execution_count": null,
   "id": "ea1f6b59",
   "metadata": {},
   "outputs": [],
   "source": [
    "a.ratio(30,10,30,30)"
   ]
  }
 ],
 "metadata": {
  "kernelspec": {
   "display_name": "Python 3.9.13 ('alberto')",
   "language": "python",
   "name": "python3"
  },
  "language_info": {
   "codemirror_mode": {
    "name": "ipython",
    "version": 3
   },
   "file_extension": ".py",
   "mimetype": "text/x-python",
   "name": "python",
   "nbconvert_exporter": "python",
   "pygments_lexer": "ipython3",
   "version": "3.9.13"
  },
  "vscode": {
   "interpreter": {
    "hash": "fdd8f0b3b6c445175c26641ed4e0cf4fa869f06a8e39a81c29b902d12e5ba79b"
   }
  }
 },
 "nbformat": 4,
 "nbformat_minor": 5
}
