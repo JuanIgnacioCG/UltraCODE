{
 "cells": [
  {
   "cell_type": "code",
   "execution_count": 2,
   "id": "654609de-418d-4353-ad45-c68c3526521d",
   "metadata": {},
   "outputs": [
    {
     "name": "stderr",
     "output_type": "stream",
     "text": [
      "C:\\Users\\alberto.vicente\\.conda\\envs\\alberto\\lib\\site-packages\\scipy\\__init__.py:146: UserWarning: A NumPy version >=1.16.5 and <1.23.0 is required for this version of SciPy (detected version 1.23.3\n",
      "  warnings.warn(f\"A NumPy version >={np_minversion} and <{np_maxversion}\"\n"
     ]
    }
   ],
   "source": [
    "import numpy as np\n",
    "from scipy.signal import hilbert #Envolvente compleja\n",
    "\n",
    "import matplotlib.pyplot as plt\n",
    "import Pred_asc as pasc\n",
    "import Pred_tomo as ptom\n",
    "import PA_functions as pa\n",
    "from pathlib import Path\n",
    "import napari\n",
    "from PIL import Image\n",
    "import os\n",
    "from napari.utils import nbscreenshot"
   ]
  },
  {
   "cell_type": "code",
   "execution_count": 3,
   "id": "7b8b0853-2fd8-40fb-84e0-ae1e560699e5",
   "metadata": {},
   "outputs": [],
   "source": [
    "class RfAnalyze: \n",
    "    \n",
    "    def __init__(self,data=[], save = True, fs = 40,axis = 2):\n",
    "        \n",
    "        data = data.astype('int32')\n",
    "        media = np.mean(data)\n",
    "        data = data - media\n",
    "        \n",
    "        self.data = data\n",
    "        self.fs = fs\n",
    "        self.hilbert = []\n",
    "        self.saved = False\n",
    "        self.viewer = None\n",
    "        self.analytic()\n",
    "    \n",
    "    def analytic(self,save = True, visualzie = False):\n",
    "        \n",
    "        if save:\n",
    "            self.saved = save\n",
    "            self.hilbert = hilbert(self.data)\n",
    "            return self.hilbert\n",
    "        \n",
    "        return hilbert(self.data)\n",
    "            \n",
    "    \n",
    "    def envelope(self, plot = False):\n",
    "        \n",
    "        if self.saved:\n",
    "            print(\"Using saved\")\n",
    "            \n",
    "            data = self.hilbert\n",
    "        \n",
    "        else:\n",
    "            \n",
    "            data = self.analytic(False)\n",
    "            \n",
    "        result = np.abs(data)\n",
    "        \n",
    "        if plot:\n",
    "            \n",
    "            self.visualize(result)\n",
    "        \n",
    "        return result\n",
    "    \n",
    "    def inst_phase(self, plot = False):\n",
    "        \n",
    "        if self.saved:\n",
    "            print(\"Using saved\")\n",
    "            \n",
    "            data = self.hilbert\n",
    "        \n",
    "        else:\n",
    "            \n",
    "            data = self.analytic(False)\n",
    "        \n",
    "        def func(x): \n",
    "            return (np.angle(x))\n",
    "        \n",
    "        result = np.apply_along_axis(func,2,data)\n",
    "        \n",
    "        if plot:\n",
    "            \n",
    "            self.visualize(result)\n",
    "\n",
    "        return result\n",
    "    \n",
    "    def inst_freq(self, plot = False):\n",
    "        \n",
    "        if self.saved:\n",
    "            print(\"Using saved\")\n",
    "            \n",
    "            data = self.hilbert\n",
    "        \n",
    "        else:\n",
    "            \n",
    "            data = self.analytic(False)\n",
    "        \n",
    "        def func(x):\n",
    "            \n",
    "            return (np.diff(np.unwrap(np.angle(x))) / (2.0*np.pi) * self.fs)\n",
    "        \n",
    "        result = np.apply_along_axis(func,2,data)\n",
    "        \n",
    "        if plot:\n",
    "            \n",
    "            self.visualize(result)\n",
    "        \n",
    "        return result\n",
    "    \n",
    "    def visualize(self,data,name = \"Imagen\"):\n",
    "        \n",
    "        if self.viewer == None:\n",
    "        \n",
    "            self.viewer = napari.view_image(pasc.axis_napari(data), name = name)\n",
    "        \n",
    "        else:\n",
    "            \n",
    "            self.viewer.add_image(pasc.axis_napari(data))\n",
    "        "
   ]
  },
  {
   "cell_type": "code",
   "execution_count": 4,
   "id": "ed47d7df-0804-4b06-a3aa-e1bdd3c06520",
   "metadata": {},
   "outputs": [],
   "source": [
    "class RfAligner:\n",
    "    \n",
    "    def __init__(self):\n",
    "        pass\n",
    "        \n",
    "    def align(rfsignal,alignment_ref,min_ref):\n",
    "        \n",
    "        np.apply_along_axis(self.align1D,2,rfsignal,alignment_ref,min_ref)\n",
    "        \n",
    "    def align1D(rfsignal,alignment_ref,min_ref):\n",
    "        \n",
    "        analytical = hilbert(rfsignal)\n",
    "        envelope = np.abs(analytical)\n",
    "\n",
    "        array1d = rfsignal\n",
    "        align = np.zeros(array1d.shape) #array de ceros con la shape de la señal\n",
    "        maxi = np.argmax(array1d)\n",
    "        pad = maxi - alignment_ref #distancia a la referencia\n",
    "\n",
    "        if maxi > 100:\n",
    "\n",
    "            print(maxi)\n",
    "\n",
    "        if (pad > 0):\n",
    "\n",
    "            if np.argmax(envelope)>min_ref: #Si el pico del envelope esta mas a la derecha que el low limit\n",
    "                end = len(array1d[pad:]) #Selecciona los valores de pad en adelante y cuenta la longitud\n",
    "                align[:end] = array1d[pad:] #Deja un hueco de 0s con el tamaño de pad y rellena el resto con la señal\n",
    "                return align\n",
    "            else:\n",
    "                return rfsignal\n",
    "\n",
    "        elif(pad<0):\n",
    "\n",
    "            start = len(array1d[:pad]) #Selecciona los valores hasta el pad y cuenta la longitud\n",
    "\n",
    "            align[np.abs(pad):] = array1d[:start] #Deja un hueco de 0s con el tamaño de pad al principio y rellena el resto con la señal\n",
    "\n",
    "            return align\n",
    "\n",
    "        else:\n",
    "\n",
    "            return rfsignal\n",
    "        \n",
    "    \n",
    "    "
   ]
  },
  {
   "cell_type": "code",
   "execution_count": 6,
   "id": "f3c3bb69-e157-4454-8dc8-211f5595c577",
   "metadata": {},
   "outputs": [
    {
     "data": {
      "text/plain": [
       "(241, 128, 1352)"
      ]
     },
     "execution_count": 6,
     "metadata": {},
     "output_type": "execute_result"
    }
   ],
   "source": [
    "folder_to_read = Path(r'C:\\\\Users\\\\alberto.vicente\\\\Documents\\\\Ultrasonidos\\\\libreria python\\\\20221013_Exp_pyUT\\\\Desarrollo libreria\\\\datos_prueba\\\\couponsMat4\\\\') \n",
    "folder_to_save = Path(r'C:\\\\Users\\\\alberto.vicente\\\\Documents\\\\Ultrasonidos\\\\libreria python')\n",
    "\n",
    "# Name of the files\n",
    "ruta_data8 = folder_to_read /   r'c4_align_env_vol_10MHz_lense.tif'\n",
    "\n",
    "\n",
    "# # Assigning images to variables\n",
    "data = ptom.napari_read_tiff(ruta_data8,folder=False)\n",
    "data.shape"
   ]
  },
  {
   "cell_type": "markdown",
   "id": "57ca3cf6-dcaa-4d9f-a298-ff4ff5478657",
   "metadata": {},
   "source": [
    "# FrAligner"
   ]
  },
  {
   "cell_type": "code",
   "execution_count": 8,
   "id": "d107cbf7-7c95-4e95-b3e7-6d99f6ff5ded",
   "metadata": {},
   "outputs": [],
   "source": [
    "align = RfAligner()"
   ]
  },
  {
   "cell_type": "code",
   "execution_count": null,
   "id": "255905d6-e2e8-4ad3-89ce-d8fa8c8698b0",
   "metadata": {},
   "outputs": [],
   "source": [
    "aligned = align.align(data,)"
   ]
  },
  {
   "cell_type": "markdown",
   "id": "5e301735-1a28-47ad-9b31-896f2134c8a1",
   "metadata": {},
   "source": [
    "# FrAnalyze"
   ]
  },
  {
   "cell_type": "code",
   "execution_count": 4,
   "id": "4e910cf7-8b15-48a0-a864-8d64a40aae59",
   "metadata": {},
   "outputs": [],
   "source": [
    "analyze = RfAnalyze(data)"
   ]
  },
  {
   "cell_type": "code",
   "execution_count": 5,
   "id": "a4bc4180-b8ab-4d52-a2ff-725336878a3a",
   "metadata": {},
   "outputs": [],
   "source": [
    "hilb = analyze.analytic()"
   ]
  },
  {
   "cell_type": "code",
   "execution_count": 6,
   "id": "98ff48b4-c2ed-437a-a248-5ab8d80e0b21",
   "metadata": {},
   "outputs": [
    {
     "name": "stdout",
     "output_type": "stream",
     "text": [
      "Using saved\n"
     ]
    },
    {
     "name": "stderr",
     "output_type": "stream",
     "text": [
      "napari.manifest -> 'napari' could not be imported: Could not find file 'builtins.yaml' in module 'napari'\n"
     ]
    }
   ],
   "source": [
    "env = analyze.envelope(True)"
   ]
  },
  {
   "cell_type": "code",
   "execution_count": 7,
   "id": "a275b646-7021-4cb0-843e-f0e76213ea45",
   "metadata": {},
   "outputs": [
    {
     "name": "stdout",
     "output_type": "stream",
     "text": [
      "Using saved\n"
     ]
    }
   ],
   "source": [
    "phase = analyze.inst_phase(True)"
   ]
  },
  {
   "cell_type": "code",
   "execution_count": 34,
   "id": "8febb627-dc7e-4ac2-b113-80f88605f4c0",
   "metadata": {},
   "outputs": [
    {
     "name": "stdout",
     "output_type": "stream",
     "text": [
      "Using saved\n"
     ]
    }
   ],
   "source": [
    "freq = analyze.inst_freq(True)"
   ]
  },
  {
   "cell_type": "code",
   "execution_count": 13,
   "id": "7a9cdc00-c410-40e3-99d0-cf8170a96dff",
   "metadata": {},
   "outputs": [
    {
     "name": "stderr",
     "output_type": "stream",
     "text": [
      "napari.manifest -> 'napari' could not be imported: Could not find file 'builtins.yaml' in module 'napari'\n"
     ]
    }
   ],
   "source": [
    "analyze.visualize(env)"
   ]
  },
  {
   "cell_type": "markdown",
   "id": "44fd67e7-b35e-45b7-86dd-1752b1002d13",
   "metadata": {},
   "source": [
    "viewer = napari.view_image(pasc.axis_napari(freq), name='freq')"
   ]
  },
  {
   "cell_type": "markdown",
   "id": "775e2d2c-708b-486c-bc08-ccc1a2b5e566",
   "metadata": {
    "tags": []
   },
   "source": [
    "# RENDIMIENTO"
   ]
  },
  {
   "cell_type": "code",
   "execution_count": 8,
   "id": "9dec5347-4eee-478e-8166-af2ae04a9d06",
   "metadata": {},
   "outputs": [],
   "source": [
    "import time"
   ]
  },
  {
   "cell_type": "code",
   "execution_count": 9,
   "id": "452e5fd5-3a68-4b27-bdb4-f9ffaf44395a",
   "metadata": {},
   "outputs": [
    {
     "name": "stdout",
     "output_type": "stream",
     "text": [
      "Using saved\n"
     ]
    },
    {
     "data": {
      "text/plain": [
       "0.1728217601776123"
      ]
     },
     "execution_count": 9,
     "metadata": {},
     "output_type": "execute_result"
    }
   ],
   "source": [
    "start_time = time.time()\n",
    "analyze.envelope()\n",
    "time.time() - start_time"
   ]
  },
  {
   "cell_type": "code",
   "execution_count": 10,
   "id": "b040b6f4-60e4-4f32-8027-cea8d3a17cd8",
   "metadata": {},
   "outputs": [
    {
     "name": "stdout",
     "output_type": "stream",
     "text": [
      "Using saved\n"
     ]
    },
    {
     "data": {
      "text/plain": [
       "0.5206804275512695"
      ]
     },
     "execution_count": 10,
     "metadata": {},
     "output_type": "execute_result"
    }
   ],
   "source": [
    "start_time = time.time()\n",
    "analyze.inst_phase()\n",
    "time.time() - start_time"
   ]
  },
  {
   "cell_type": "code",
   "execution_count": 13,
   "id": "91a68904-a2a7-43b0-98ec-2d7f7099f1a8",
   "metadata": {},
   "outputs": [
    {
     "name": "stdout",
     "output_type": "stream",
     "text": [
      "Using saved\n"
     ]
    },
    {
     "data": {
      "text/plain": [
       "2.3713910579681396"
      ]
     },
     "execution_count": 13,
     "metadata": {},
     "output_type": "execute_result"
    }
   ],
   "source": [
    "start_time = time.time()\n",
    "analyze.inst_freq()\n",
    "time.time() - start_time"
   ]
  },
  {
   "cell_type": "code",
   "execution_count": 32,
   "id": "cd935181-b299-4f59-a6db-92ebc0e3a2d9",
   "metadata": {},
   "outputs": [
    {
     "name": "stdout",
     "output_type": "stream",
     "text": [
      "Using saved\n",
      "Using saved\n",
      "Using saved\n",
      "Using saved\n",
      "Using saved\n",
      "Using saved\n",
      "Using saved\n",
      "Using saved\n",
      "Using saved\n",
      "Using saved\n",
      "Using saved\n",
      "Using saved\n",
      "Using saved\n",
      "Using saved\n",
      "Using saved\n",
      "Using saved\n",
      "Using saved\n",
      "Using saved\n",
      "Using saved\n",
      "Using saved\n"
     ]
    },
    {
     "data": {
      "text/plain": [
       "0.2630586624145508"
      ]
     },
     "execution_count": 32,
     "metadata": {},
     "output_type": "execute_result"
    }
   ],
   "source": [
    "start_time = time.time()\n",
    "for i in range(20):\n",
    "    analyze.envelope()\n",
    "(time.time() - start_time)/20"
   ]
  },
  {
   "cell_type": "code",
   "execution_count": 33,
   "id": "e76de1b9-4afe-48e6-9cda-a99137e9fa40",
   "metadata": {},
   "outputs": [
    {
     "name": "stdout",
     "output_type": "stream",
     "text": [
      "Using saved\n",
      "Using saved\n",
      "Using saved\n",
      "Using saved\n",
      "Using saved\n",
      "Using saved\n",
      "Using saved\n",
      "Using saved\n",
      "Using saved\n",
      "Using saved\n",
      "Using saved\n",
      "Using saved\n",
      "Using saved\n",
      "Using saved\n",
      "Using saved\n",
      "Using saved\n",
      "Using saved\n",
      "Using saved\n",
      "Using saved\n",
      "Using saved\n"
     ]
    },
    {
     "data": {
      "text/plain": [
       "0.7564560055732727"
      ]
     },
     "execution_count": 33,
     "metadata": {},
     "output_type": "execute_result"
    }
   ],
   "source": [
    "start_time = time.time()\n",
    "for i in range(20):\n",
    "    analyze.inst_phase()\n",
    "(time.time() - start_time)/20"
   ]
  },
  {
   "cell_type": "code",
   "execution_count": 14,
   "id": "400a4a21-df44-431a-9b22-19669b2e7391",
   "metadata": {},
   "outputs": [
    {
     "name": "stdout",
     "output_type": "stream",
     "text": [
      "Using saved\n",
      "Using saved\n",
      "Using saved\n",
      "Using saved\n",
      "Using saved\n",
      "Using saved\n",
      "Using saved\n",
      "Using saved\n",
      "Using saved\n",
      "Using saved\n",
      "Using saved\n",
      "Using saved\n",
      "Using saved\n",
      "Using saved\n",
      "Using saved\n",
      "Using saved\n",
      "Using saved\n",
      "Using saved\n",
      "Using saved\n",
      "Using saved\n"
     ]
    },
    {
     "data": {
      "text/plain": [
       "2.348786211013794"
      ]
     },
     "execution_count": 14,
     "metadata": {},
     "output_type": "execute_result"
    }
   ],
   "source": [
    "start_time = time.time()\n",
    "for i in range(20):\n",
    "    analyze.inst_freq()\n",
    "(time.time() - start_time)/20"
   ]
  },
  {
   "cell_type": "code",
   "execution_count": 17,
   "id": "a6525ca7-0ecb-4de6-b226-811d07bb9331",
   "metadata": {},
   "outputs": [
    {
     "data": {
      "text/plain": [
       "1.1470179677009582"
      ]
     },
     "execution_count": 17,
     "metadata": {},
     "output_type": "execute_result"
    }
   ],
   "source": [
    "start_time = time.time()\n",
    "for i in range(20):\n",
    "    get_env(data)\n",
    "(time.time() - start_time)/20"
   ]
  },
  {
   "cell_type": "code",
   "execution_count": 18,
   "id": "4b79849f-c71c-429c-ae9c-e66b963d299c",
   "metadata": {},
   "outputs": [
    {
     "data": {
      "text/plain": [
       "1.6436349987983703"
      ]
     },
     "execution_count": 18,
     "metadata": {},
     "output_type": "execute_result"
    }
   ],
   "source": [
    "start_time = time.time()\n",
    "for i in range(20):\n",
    "    analytic = hilbert(data)\n",
    "    np.apply_along_axis(get_inst_phase,2,analytic)\n",
    "(time.time() - start_time)/20"
   ]
  },
  {
   "cell_type": "code",
   "execution_count": 15,
   "id": "f46a141e-8097-46b7-806c-e9323c6f349c",
   "metadata": {},
   "outputs": [
    {
     "ename": "NameError",
     "evalue": "name 'get_inst_freq' is not defined",
     "output_type": "error",
     "traceback": [
      "\u001b[1;31m---------------------------------------------------------------------------\u001b[0m",
      "\u001b[1;31mNameError\u001b[0m                                 Traceback (most recent call last)",
      "\u001b[1;32m~\\AppData\\Local\\Temp\\ipykernel_11920\\1407301370.py\u001b[0m in \u001b[0;36m<module>\u001b[1;34m\u001b[0m\n\u001b[0;32m      2\u001b[0m \u001b[1;32mfor\u001b[0m \u001b[0mi\u001b[0m \u001b[1;32min\u001b[0m \u001b[0mrange\u001b[0m\u001b[1;33m(\u001b[0m\u001b[1;36m20\u001b[0m\u001b[1;33m)\u001b[0m\u001b[1;33m:\u001b[0m\u001b[1;33m\u001b[0m\u001b[1;33m\u001b[0m\u001b[0m\n\u001b[0;32m      3\u001b[0m     \u001b[0manalytic\u001b[0m \u001b[1;33m=\u001b[0m \u001b[0mhilbert\u001b[0m\u001b[1;33m(\u001b[0m\u001b[0mdata\u001b[0m\u001b[1;33m)\u001b[0m\u001b[1;33m\u001b[0m\u001b[1;33m\u001b[0m\u001b[0m\n\u001b[1;32m----> 4\u001b[1;33m     \u001b[0mnp\u001b[0m\u001b[1;33m.\u001b[0m\u001b[0mapply_along_axis\u001b[0m\u001b[1;33m(\u001b[0m\u001b[0mget_inst_freq\u001b[0m\u001b[1;33m,\u001b[0m\u001b[1;36m2\u001b[0m\u001b[1;33m,\u001b[0m\u001b[0manalytic\u001b[0m\u001b[1;33m,\u001b[0m\u001b[1;36m40\u001b[0m\u001b[1;33m)\u001b[0m\u001b[1;33m\u001b[0m\u001b[1;33m\u001b[0m\u001b[0m\n\u001b[0m\u001b[0;32m      5\u001b[0m \u001b[1;33m(\u001b[0m\u001b[0mtime\u001b[0m\u001b[1;33m.\u001b[0m\u001b[0mtime\u001b[0m\u001b[1;33m(\u001b[0m\u001b[1;33m)\u001b[0m \u001b[1;33m-\u001b[0m \u001b[0mstart_time\u001b[0m\u001b[1;33m)\u001b[0m\u001b[1;33m/\u001b[0m\u001b[1;36m20\u001b[0m\u001b[1;33m\u001b[0m\u001b[1;33m\u001b[0m\u001b[0m\n",
      "\u001b[1;31mNameError\u001b[0m: name 'get_inst_freq' is not defined"
     ]
    }
   ],
   "source": [
    "start_time = time.time()\n",
    "for i in range(20):\n",
    "    analytic = hilbert(data)\n",
    "    np.apply_along_axis(get_inst_freq,2,analytic,40)\n",
    "(time.time() - start_time)/20"
   ]
  },
  {
   "cell_type": "code",
   "execution_count": 12,
   "id": "40b1e73b-4036-4818-a463-1eaab3af3dac",
   "metadata": {},
   "outputs": [
    {
     "name": "stderr",
     "output_type": "stream",
     "text": [
      "napari.manifest -> 'napari' could not be imported: Could not find file 'builtins.yaml' in module 'napari'\n"
     ]
    },
    {
     "data": {
      "text/plain": [
       "Viewer(axes=Axes(visible=False, labels=True, colored=True, dashed=False, arrows=True), camera=Camera(center=(0.0, 120.0, 63.5), zoom=3.504356846473029, angles=(0.0, 0.0, 90.0), perspective=0.0, interactive=True), cursor=Cursor(position=(676.0, 1.0, 0.0), scaled=True, size=1, style=<CursorStyle.STANDARD: 'standard'>), dims=Dims(ndim=3, ndisplay=2, last_used=0, range=((0.0, 1352.0, 1.0), (0.0, 241.0, 1.0), (0.0, 128.0, 1.0)), current_step=(676, 120, 64), order=(0, 1, 2), axis_labels=('0', '1', '2')), grid=GridCanvas(stride=1, shape=(-1, -1), enabled=False), layers=[<Image layer 'name' at 0x23114aead00>], scale_bar=ScaleBar(visible=False, colored=False, color=array([1., 0., 1., 1.], dtype=float32), ticks=True, position=<Position.BOTTOM_RIGHT: 'bottom_right'>, font_size=10.0, box=False, box_color=array([0. , 0. , 0. , 0.6], dtype=float32), unit=None), text_overlay=TextOverlay(visible=False, color=array([0.5, 0.5, 0.5, 1. ], dtype=float32), font_size=10.0, position=<TextOverlayPosition.TOP_LEFT: 'top_left'>, text=''), overlays=Overlays(interaction_box=InteractionBox(points=None, show=False, show_handle=False, show_vertices=False, selection_box_drag=None, selection_box_final=None, transform_start=<napari.utils.transforms.transforms.Affine object at 0x00000231149FA130>, transform_drag=<napari.utils.transforms.transforms.Affine object at 0x00000231149FA190>, transform_final=<napari.utils.transforms.transforms.Affine object at 0x00000231149FA1F0>, transform=<napari.utils.transforms.transforms.Affine object at 0x00000231149FA250>, allow_new_selection=True, selected_vertex=None)), help='', status='Ready', tooltip=Tooltip(visible=False, text=''), theme='dark', title='napari', mouse_over_canvas=False, mouse_move_callbacks=[<function InteractionBoxMouseBindings.initialize_mouse_events.<locals>.mouse_move at 0x0000023128AC9F70>], mouse_drag_callbacks=[<function InteractionBoxMouseBindings.initialize_mouse_events.<locals>.mouse_drag at 0x0000023128AC9940>], mouse_double_click_callbacks=[], mouse_wheel_callbacks=[<function dims_scroll at 0x0000023114481F70>], _persisted_mouse_event={}, _mouse_drag_gen={}, _mouse_wheel_gen={}, keymap={'Shift': <function InteractionBoxMouseBindings.initialize_key_events.<locals>.hold_to_lock_aspect_ratio at 0x0000023128AC91F0>, 'Control-Shift-R': <function InteractionBoxMouseBindings._reset_active_layer_affine at 0x000002312873C8B0>, 'Control-Shift-A': <function InteractionBoxMouseBindings._transform_active_layer at 0x000002312873C700>})"
      ]
     },
     "execution_count": 12,
     "metadata": {},
     "output_type": "execute_result"
    }
   ],
   "source": [
    "napari.view_image(pasc.axis_napari(data), name =  \"name\")"
   ]
  },
  {
   "cell_type": "code",
   "execution_count": null,
   "id": "f171557d-e24c-44a8-a8df-612116b538e7",
   "metadata": {},
   "outputs": [],
   "source": []
  }
 ],
 "metadata": {
  "kernelspec": {
   "display_name": "Python 3.9.13 ('alberto')",
   "language": "python",
   "name": "python3"
  },
  "language_info": {
   "codemirror_mode": {
    "name": "ipython",
    "version": 3
   },
   "file_extension": ".py",
   "mimetype": "text/x-python",
   "name": "python",
   "nbconvert_exporter": "python",
   "pygments_lexer": "ipython3",
   "version": "3.9.13"
  },
  "vscode": {
   "interpreter": {
    "hash": "fdd8f0b3b6c445175c26641ed4e0cf4fa869f06a8e39a81c29b902d12e5ba79b"
   }
  }
 },
 "nbformat": 4,
 "nbformat_minor": 5
}
